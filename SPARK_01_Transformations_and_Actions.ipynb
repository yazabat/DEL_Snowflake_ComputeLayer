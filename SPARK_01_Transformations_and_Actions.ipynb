{
  "nbformat": 4,
  "nbformat_minor": 0,
  "metadata": {
    "colab": {
      "provenance": [],
      "collapsed_sections": [],
      "include_colab_link": true
    },
    "kernelspec": {
      "name": "python3",
      "display_name": "Python 3"
    }
  },
  "cells": [
    {
      "cell_type": "markdown",
      "metadata": {
        "id": "view-in-github",
        "colab_type": "text"
      },
      "source": [
        "<a href=\"https://colab.research.google.com/github/yazabat/DEL_Snowflake_ComputeLayer/blob/main/SPARK_01_Transformations_and_Actions.ipynb\" target=\"_parent\"><img src=\"https://colab.research.google.com/assets/colab-badge.svg\" alt=\"Open In Colab\"/></a>"
      ]
    },
    {
      "cell_type": "markdown",
      "metadata": {
        "id": "D1BqqYP1HCkN"
      },
      "source": [
        "# **Init Spark**"
      ]
    },
    {
      "cell_type": "code",
      "source": [
        "from google.colab import drive\n",
        "drive.mount('/content/drive')"
      ],
      "metadata": {
        "colab": {
          "base_uri": "https://localhost:8080/"
        },
        "id": "8WtXnymZauzG",
        "outputId": "ca993233-4d00-46fc-cdfd-f98a7b60c4ca"
      },
      "execution_count": 3,
      "outputs": [
        {
          "output_type": "stream",
          "name": "stdout",
          "text": [
            "Mounted at /content/drive\n"
          ]
        }
      ]
    },
    {
      "cell_type": "code",
      "source": [
        "pip install pyspark"
      ],
      "metadata": {
        "colab": {
          "base_uri": "https://localhost:8080/"
        },
        "id": "rXyPOBnCb56i",
        "outputId": "d228f4c5-3fcc-4c43-8db8-f0efbaa52852"
      },
      "execution_count": 12,
      "outputs": [
        {
          "output_type": "stream",
          "name": "stdout",
          "text": [
            "Looking in indexes: https://pypi.org/simple, https://us-python.pkg.dev/colab-wheels/public/simple/\n",
            "Requirement already satisfied: pyspark in /usr/local/lib/python3.7/dist-packages (3.0.2)\n",
            "Requirement already satisfied: py4j==0.10.9 in /usr/local/lib/python3.7/dist-packages (from pyspark) (0.10.9)\n"
          ]
        }
      ]
    },
    {
      "cell_type": "code",
      "source": [],
      "metadata": {
        "id": "JxpdoiWVcE87"
      },
      "execution_count": null,
      "outputs": []
    },
    {
      "cell_type": "code",
      "metadata": {
        "colab": {
          "base_uri": "https://localhost:8080/"
        },
        "id": "nY9MEKKfYb6T",
        "outputId": "1c130290-2051-4582-ccc2-dc176052f549"
      },
      "source": [
        "#INSTALACION\n",
        "!apt-get install openjdk-8-jre\n",
        "!apt-get install scala\n",
        "# instalar JAVA\n",
        "!apt-get install openjdk-8-jdk-headless -qq > /dev/null\n",
        "!pip install py4j\n",
        "# instalar Spark\n",
        "#!wget -q https://downloads.apache.org/spark/spark-2.4.8/spark-2.4.8-bin-hadoop2.7.tgz\n",
        "#!tar xf spark-2.4.8-bin-hadoop2.7.tgz\n",
        "!wget -q https://dlcdn.apache.org/spark/spark-3.2.1/spark-3.2.1-bin-hadoop3.2.tgz\n",
        "!tar xf spark-3.2.1-bin-hadoop3.2.tgz\n",
        "# instalar para usar con pypthon\n",
        "!pip install pypandoc\n",
        "\n",
        "!pip install findspark"
      ],
      "execution_count": 15,
      "outputs": [
        {
          "output_type": "stream",
          "name": "stdout",
          "text": [
            "Reading package lists... Done\n",
            "Building dependency tree       \n",
            "Reading state information... Done\n",
            "openjdk-8-jre is already the newest version (8u342-b07-0ubuntu1~18.04).\n",
            "The following package was automatically installed and is no longer required:\n",
            "  libnvidia-common-460\n",
            "Use 'apt autoremove' to remove it.\n",
            "0 upgraded, 0 newly installed, 0 to remove and 12 not upgraded.\n",
            "Reading package lists... Done\n",
            "Building dependency tree       \n",
            "Reading state information... Done\n",
            "scala is already the newest version (2.11.12-4~18.04).\n",
            "The following package was automatically installed and is no longer required:\n",
            "  libnvidia-common-460\n",
            "Use 'apt autoremove' to remove it.\n",
            "0 upgraded, 0 newly installed, 0 to remove and 12 not upgraded.\n",
            "Looking in indexes: https://pypi.org/simple, https://us-python.pkg.dev/colab-wheels/public/simple/\n",
            "Requirement already satisfied: py4j in /usr/local/lib/python3.7/dist-packages (0.10.9)\n",
            "tar: spark-3.2.1-bin-hadoop3.2.tgz: Cannot open: No such file or directory\n",
            "tar: Error is not recoverable: exiting now\n",
            "Looking in indexes: https://pypi.org/simple, https://us-python.pkg.dev/colab-wheels/public/simple/\n",
            "Requirement already satisfied: pypandoc in /usr/local/lib/python3.7/dist-packages (1.9)\n",
            "Looking in indexes: https://pypi.org/simple, https://us-python.pkg.dev/colab-wheels/public/simple/\n",
            "Requirement already satisfied: findspark in /usr/local/lib/python3.7/dist-packages (2.0.1)\n"
          ]
        }
      ]
    },
    {
      "cell_type": "code",
      "source": [
        "# Download Spark\n",
        "!wget -q https://archive.apache.org/dist/spark/spark-3.0.0/spark-3.0.0-bin-hadoop2.7.tgz\n",
        "# Unzip the file\n",
        "!tar xf spark-3.0.0/spark-3.0.0-bin-hadoop2.7.tgz\n",
        "# Unzip the file"
      ],
      "metadata": {
        "colab": {
          "base_uri": "https://localhost:8080/"
        },
        "id": "-oLyfPmzhpU4",
        "outputId": "f555c519-bd83-446f-dd38-a5eddfd85d70"
      },
      "execution_count": 21,
      "outputs": [
        {
          "output_type": "stream",
          "name": "stdout",
          "text": [
            "tar: spark-3.0.0/spark-3.0.0-bin-hadoop2.7.tgz: Cannot open: No such file or directory\n",
            "tar: Error is not recoverable: exiting now\n"
          ]
        }
      ]
    },
    {
      "cell_type": "code",
      "source": [
        "# innstall java\n",
        "!apt-get install openjdk-8-jdk-headless -qq > /dev/null\n",
        "\n",
        "# install spark (change the version number if needed)\n",
        "!wget -q https://archive.apache.org/dist/spark/spark-3.0.0/spark-3.0.0-bin-hadoop3.2.tgz\n",
        "\n",
        "# unzip the spark file to the current folder\n",
        "!tar xf spark-3.0.0-bin-hadoop3.2.tgz\n",
        "\n",
        "# set your spark folder to your system path environment. \n",
        "import os\n",
        "os.environ[\"JAVA_HOME\"] = \"/usr/lib/jvm/java-8-openjdk-amd64\"\n",
        "os.environ[\"SPARK_HOME\"] = \"/content/spark-3.0.0-bin-hadoop3.2\"\n",
        "\n",
        "\n",
        "# install findspark using pip\n",
        "!pip install -q findspark\n",
        "\n",
        "!pip install pyspark"
      ],
      "metadata": {
        "colab": {
          "base_uri": "https://localhost:8080/"
        },
        "id": "HwN95qvmjtbY",
        "outputId": "b4ff01db-6ad4-4dae-de88-698634fe3995"
      },
      "execution_count": 25,
      "outputs": [
        {
          "output_type": "stream",
          "name": "stdout",
          "text": [
            "Looking in indexes: https://pypi.org/simple, https://us-python.pkg.dev/colab-wheels/public/simple/\n",
            "Requirement already satisfied: pyspark in /usr/local/lib/python3.7/dist-packages (3.0.2)\n",
            "Requirement already satisfied: py4j==0.10.9 in /usr/local/lib/python3.7/dist-packages (from pyspark) (0.10.9)\n"
          ]
        }
      ]
    },
    {
      "cell_type": "code",
      "source": [],
      "metadata": {
        "id": "_gCO3Yw9jtSf"
      },
      "execution_count": null,
      "outputs": []
    },
    {
      "cell_type": "code",
      "source": [
        "#import os\n",
        "#os.environ[\"JAVA_HOME\"] = \"/usr/lib/jvm/java-8-openjdk-amd64\"\n",
        "#os.environ[\"SPARK_HOME\"] = \"/content/spark-3.2.1-bin-hadoop3.2\""
      ],
      "metadata": {
        "id": "ysczhG8Sbx6d"
      },
      "execution_count": 16,
      "outputs": []
    },
    {
      "cell_type": "code",
      "source": [
        "!pip3 install pyspark==3.0.2"
      ],
      "metadata": {
        "colab": {
          "base_uri": "https://localhost:8080/"
        },
        "id": "4TtFWzHUSj89",
        "outputId": "b53f18e8-9a4b-4ab7-a501-68b622242de5"
      },
      "execution_count": 26,
      "outputs": [
        {
          "output_type": "stream",
          "name": "stdout",
          "text": [
            "Looking in indexes: https://pypi.org/simple, https://us-python.pkg.dev/colab-wheels/public/simple/\n",
            "Requirement already satisfied: pyspark==3.0.2 in /usr/local/lib/python3.7/dist-packages (3.0.2)\n",
            "Requirement already satisfied: py4j==0.10.9 in /usr/local/lib/python3.7/dist-packages (from pyspark==3.0.2) (0.10.9)\n"
          ]
        }
      ]
    },
    {
      "cell_type": "code",
      "metadata": {
        "id": "x4sF8wq4GyCu"
      },
      "source": [
        "import findspark\n",
        "findspark.init()\n"
      ],
      "execution_count": 27,
      "outputs": []
    },
    {
      "cell_type": "code",
      "source": [
        "from pyspark.sql import SparkSession\n",
        "spark = SparkSession.builder.master(\"local[*]\").getOrCreate()"
      ],
      "metadata": {
        "id": "eJRVwpmZTG9Z"
      },
      "execution_count": 28,
      "outputs": []
    },
    {
      "cell_type": "markdown",
      "metadata": {
        "id": "Kwce9umTa83Z"
      },
      "source": [
        "## Sample\n",
        "\n"
      ]
    },
    {
      "cell_type": "code",
      "metadata": {
        "id": "Zz3ZUDuOY6gU"
      },
      "source": [],
      "execution_count": null,
      "outputs": []
    },
    {
      "cell_type": "code",
      "metadata": {
        "id": "qrCGVyYBY8Cx"
      },
      "source": [
        "#SUBIDA DE ARCHIVOS\n",
        "from google.colab import files\n",
        "#files.upload()"
      ],
      "execution_count": null,
      "outputs": []
    },
    {
      "cell_type": "markdown",
      "metadata": {
        "id": "I1pc23l7Gf2W"
      },
      "source": [
        "## Transformations and Actions - 01 Class"
      ]
    },
    {
      "cell_type": "code",
      "metadata": {
        "id": "-u-sD8WfZDhm"
      },
      "source": [
        "from pyspark import SparkContext"
      ],
      "execution_count": 29,
      "outputs": []
    },
    {
      "cell_type": "code",
      "source": [
        "sc = SparkContext.getOrCreate();"
      ],
      "metadata": {
        "id": "FSuNiPw3wdIa"
      },
      "execution_count": 32,
      "outputs": []
    },
    {
      "cell_type": "code",
      "metadata": {
        "id": "m5F7f-DcFweb"
      },
      "source": [
        "# Create a initialator\n",
        "sc = SparkContext(master='local', appName=\"transformacionesYAcciones\")"
      ],
      "execution_count": 54,
      "outputs": []
    },
    {
      "cell_type": "code",
      "metadata": {
        "colab": {
          "base_uri": "https://localhost:8080/"
        },
        "id": "_WiPQMaYJEA1",
        "outputId": "d385e6c8-c659-4d3c-f4ed-e12c4a493de1"
      },
      "source": [
        "# run drive in the colab\n",
        "from google.colab import drive\n",
        "drive.mount('/content/drive/')"
      ],
      "execution_count": null,
      "outputs": [
        {
          "output_type": "stream",
          "text": [
            "Mounted at /content/drive/\n"
          ],
          "name": "stdout"
        }
      ]
    },
    {
      "cell_type": "code",
      "metadata": {
        "colab": {
          "base_uri": "https://localhost:8080/"
        },
        "id": "2ob7UF_bJUl5",
        "outputId": "1fec0a70-839b-4290-8ba9-e69656dc1286"
      },
      "source": [
        "# Read dataset\n",
        "%cd '/content/drive/MyDrive/2022-spark/files'"
      ],
      "execution_count": 55,
      "outputs": [
        {
          "output_type": "stream",
          "name": "stdout",
          "text": [
            "/content/drive/MyDrive/2022-spark/files\n"
          ]
        }
      ]
    },
    {
      "cell_type": "code",
      "metadata": {
        "colab": {
          "base_uri": "https://localhost:8080/"
        },
        "id": "ioRUejgOEoT9",
        "outputId": "eeb14ccf-7f0d-43a3-f195-a9dd114df2fa"
      },
      "source": [
        "# Create a read distribuited data \n",
        "rdd1 = sc.parallelize([1,2,3])\n",
        "type(rdd1)"
      ],
      "execution_count": 56,
      "outputs": [
        {
          "output_type": "execute_result",
          "data": {
            "text/plain": [
              "pyspark.rdd.RDD"
            ]
          },
          "metadata": {},
          "execution_count": 56
        }
      ]
    },
    {
      "cell_type": "code",
      "metadata": {
        "colab": {
          "base_uri": "https://localhost:8080/"
        },
        "id": "uCBXiPGlJXCS",
        "outputId": "fa21444b-3f49-46f0-b9ec-67e64fc5d018"
      },
      "source": [
        "!ls"
      ],
      "execution_count": 39,
      "outputs": [
        {
          "output_type": "stream",
          "name": "stdout",
          "text": [
            "deporte.csv\t deportistaError.csv  modelo_relacional.jpg\n",
            "deportista2.csv  evento.csv\t      paises.csv\n",
            "deportista.csv\t juegos.csv\t      resultados.csv\n"
          ]
        }
      ]
    },
    {
      "cell_type": "code",
      "metadata": {
        "id": "MSkpQEcxKNKv"
      },
      "source": [
        "# load rdd\n",
        "path = '/content/drive/MyDrive/2022-spark/files/'\n",
        "equiposOlimpicosRDD = sc.textFile(path+'paises.csv').map(lambda line: line.split(','))"
      ],
      "execution_count": 57,
      "outputs": []
    },
    {
      "cell_type": "code",
      "metadata": {
        "id": "KZnqHNQMFGmv",
        "colab": {
          "base_uri": "https://localhost:8080/"
        },
        "outputId": "ccb0fdac-73ae-4e08-e4c4-e73838087dd1"
      },
      "source": [
        "# Visaulize rdd\n",
        "rdd1.collect()"
      ],
      "execution_count": 58,
      "outputs": [
        {
          "output_type": "execute_result",
          "data": {
            "text/plain": [
              "[1, 2, 3]"
            ]
          },
          "metadata": {},
          "execution_count": 58
        }
      ]
    },
    {
      "cell_type": "code",
      "metadata": {
        "id": "m2dp3unaHc_4",
        "colab": {
          "base_uri": "https://localhost:8080/",
          "height": 196
        },
        "outputId": "316a8066-5984-4396-d5c1-33c890a358dd"
      },
      "source": [
        "# Show context of Spark\n",
        "sc"
      ],
      "execution_count": 59,
      "outputs": [
        {
          "output_type": "execute_result",
          "data": {
            "text/plain": [
              "<SparkContext master=local appName=transformacionesYAcciones>"
            ],
            "text/html": [
              "\n",
              "        <div>\n",
              "            <p><b>SparkContext</b></p>\n",
              "\n",
              "            <p><a href=\"http://7ad7b14b1f58:4040\">Spark UI</a></p>\n",
              "\n",
              "            <dl>\n",
              "              <dt>Version</dt>\n",
              "                <dd><code>v3.0.0</code></dd>\n",
              "              <dt>Master</dt>\n",
              "                <dd><code>local</code></dd>\n",
              "              <dt>AppName</dt>\n",
              "                <dd><code>transformacionesYAcciones</code></dd>\n",
              "            </dl>\n",
              "        </div>\n",
              "        "
            ]
          },
          "metadata": {},
          "execution_count": 59
        }
      ]
    },
    {
      "cell_type": "code",
      "metadata": {
        "colab": {
          "base_uri": "https://localhost:8080/"
        },
        "id": "6bZVUidqHeCP",
        "outputId": "5047caed-8d75-4236-cd7d-c6a545927172"
      },
      "source": [
        "# cloning repo in case don't have data yet\n",
        "!git clone https://github.com/terranigmark/curso-apache-spark-platzi"
      ],
      "execution_count": 45,
      "outputs": [
        {
          "output_type": "stream",
          "name": "stdout",
          "text": [
            "Cloning into 'curso-apache-spark-platzi'...\n",
            "remote: Enumerating objects: 168, done.\u001b[K\n",
            "remote: Counting objects: 100% (168/168), done.\u001b[K\n",
            "remote: Compressing objects: 100% (106/106), done.\u001b[K\n",
            "remote: Total 168 (delta 92), reused 120 (delta 48), pack-reused 0\u001b[K\n",
            "Receiving objects: 100% (168/168), 8.00 MiB | 9.97 MiB/s, done.\n",
            "Resolving deltas: 100% (92/92), done.\n"
          ]
        }
      ]
    },
    {
      "cell_type": "code",
      "metadata": {
        "id": "jIW5OL2lLEn7",
        "colab": {
          "base_uri": "https://localhost:8080/"
        },
        "outputId": "d1449868-8059-4226-a74c-5cabda06ec6e"
      },
      "source": [
        "# Read first 5 rows\n",
        "equiposOlimpicosRDD.take(5)"
      ],
      "execution_count": 60,
      "outputs": [
        {
          "output_type": "execute_result",
          "data": {
            "text/plain": [
              "[['id', 'equipo', 'sigla'],\n",
              " ['1', '30. Februar', 'AUT'],\n",
              " ['2', 'A North American Team', 'MEX'],\n",
              " ['3', 'Acipactli', 'MEX'],\n",
              " ['4', 'Acturus', 'ARG']]"
            ]
          },
          "metadata": {},
          "execution_count": 60
        }
      ]
    },
    {
      "cell_type": "code",
      "metadata": {
        "id": "QpAqYP71LHKj"
      },
      "source": [
        "# Stop the memory\n",
        "sc.stop()"
      ],
      "execution_count": 47,
      "outputs": []
    },
    {
      "cell_type": "markdown",
      "metadata": {
        "id": "LABsqWgmNr6j"
      },
      "source": [
        "## Transformations and Actions - 02 Class"
      ]
    },
    {
      "cell_type": "code",
      "metadata": {
        "colab": {
          "base_uri": "https://localhost:8080/",
          "height": 779
        },
        "id": "PCmB47bFN2a7",
        "outputId": "eb75d010-2f31-4488-c3d3-5aa8b05fc689"
      },
      "source": [
        "# Read first 15 rows\n",
        "equiposOlimpicosRDD.take(15)"
      ],
      "execution_count": 48,
      "outputs": [
        {
          "output_type": "error",
          "ename": "Py4JJavaError",
          "evalue": "ignored",
          "traceback": [
            "\u001b[0;31m---------------------------------------------------------------------------\u001b[0m",
            "\u001b[0;31mPy4JJavaError\u001b[0m                             Traceback (most recent call last)",
            "\u001b[0;32m<ipython-input-48-58a487c005f4>\u001b[0m in \u001b[0;36m<module>\u001b[0;34m\u001b[0m\n\u001b[1;32m      1\u001b[0m \u001b[0;31m# Read first 15 rows\u001b[0m\u001b[0;34m\u001b[0m\u001b[0;34m\u001b[0m\u001b[0;34m\u001b[0m\u001b[0m\n\u001b[0;32m----> 2\u001b[0;31m \u001b[0mequiposOlimpicosRDD\u001b[0m\u001b[0;34m.\u001b[0m\u001b[0mtake\u001b[0m\u001b[0;34m(\u001b[0m\u001b[0;36m15\u001b[0m\u001b[0;34m)\u001b[0m\u001b[0;34m\u001b[0m\u001b[0;34m\u001b[0m\u001b[0m\n\u001b[0m",
            "\u001b[0;32m/content/spark-3.0.0-bin-hadoop3.2/python/pyspark/rdd.py\u001b[0m in \u001b[0;36mtake\u001b[0;34m(self, num)\u001b[0m\n\u001b[1;32m   1411\u001b[0m         \"\"\"\n\u001b[1;32m   1412\u001b[0m         \u001b[0mitems\u001b[0m \u001b[0;34m=\u001b[0m \u001b[0;34m[\u001b[0m\u001b[0;34m]\u001b[0m\u001b[0;34m\u001b[0m\u001b[0;34m\u001b[0m\u001b[0m\n\u001b[0;32m-> 1413\u001b[0;31m         \u001b[0mtotalParts\u001b[0m \u001b[0;34m=\u001b[0m \u001b[0mself\u001b[0m\u001b[0;34m.\u001b[0m\u001b[0mgetNumPartitions\u001b[0m\u001b[0;34m(\u001b[0m\u001b[0;34m)\u001b[0m\u001b[0;34m\u001b[0m\u001b[0;34m\u001b[0m\u001b[0m\n\u001b[0m\u001b[1;32m   1414\u001b[0m         \u001b[0mpartsScanned\u001b[0m \u001b[0;34m=\u001b[0m \u001b[0;36m0\u001b[0m\u001b[0;34m\u001b[0m\u001b[0;34m\u001b[0m\u001b[0m\n\u001b[1;32m   1415\u001b[0m \u001b[0;34m\u001b[0m\u001b[0m\n",
            "\u001b[0;32m/content/spark-3.0.0-bin-hadoop3.2/python/pyspark/rdd.py\u001b[0m in \u001b[0;36mgetNumPartitions\u001b[0;34m(self)\u001b[0m\n\u001b[1;32m   2612\u001b[0m \u001b[0;34m\u001b[0m\u001b[0m\n\u001b[1;32m   2613\u001b[0m     \u001b[0;32mdef\u001b[0m \u001b[0mgetNumPartitions\u001b[0m\u001b[0;34m(\u001b[0m\u001b[0mself\u001b[0m\u001b[0;34m)\u001b[0m\u001b[0;34m:\u001b[0m\u001b[0;34m\u001b[0m\u001b[0;34m\u001b[0m\u001b[0m\n\u001b[0;32m-> 2614\u001b[0;31m         \u001b[0;32mreturn\u001b[0m \u001b[0mself\u001b[0m\u001b[0;34m.\u001b[0m\u001b[0m_prev_jrdd\u001b[0m\u001b[0;34m.\u001b[0m\u001b[0mpartitions\u001b[0m\u001b[0;34m(\u001b[0m\u001b[0;34m)\u001b[0m\u001b[0;34m.\u001b[0m\u001b[0msize\u001b[0m\u001b[0;34m(\u001b[0m\u001b[0;34m)\u001b[0m\u001b[0;34m\u001b[0m\u001b[0;34m\u001b[0m\u001b[0m\n\u001b[0m\u001b[1;32m   2615\u001b[0m \u001b[0;34m\u001b[0m\u001b[0m\n\u001b[1;32m   2616\u001b[0m     \u001b[0;34m@\u001b[0m\u001b[0mproperty\u001b[0m\u001b[0;34m\u001b[0m\u001b[0;34m\u001b[0m\u001b[0m\n",
            "\u001b[0;32m/content/spark-3.0.0-bin-hadoop3.2/python/lib/py4j-0.10.9-src.zip/py4j/java_gateway.py\u001b[0m in \u001b[0;36m__call__\u001b[0;34m(self, *args)\u001b[0m\n\u001b[1;32m   1303\u001b[0m         \u001b[0manswer\u001b[0m \u001b[0;34m=\u001b[0m \u001b[0mself\u001b[0m\u001b[0;34m.\u001b[0m\u001b[0mgateway_client\u001b[0m\u001b[0;34m.\u001b[0m\u001b[0msend_command\u001b[0m\u001b[0;34m(\u001b[0m\u001b[0mcommand\u001b[0m\u001b[0;34m)\u001b[0m\u001b[0;34m\u001b[0m\u001b[0;34m\u001b[0m\u001b[0m\n\u001b[1;32m   1304\u001b[0m         return_value = get_return_value(\n\u001b[0;32m-> 1305\u001b[0;31m             answer, self.gateway_client, self.target_id, self.name)\n\u001b[0m\u001b[1;32m   1306\u001b[0m \u001b[0;34m\u001b[0m\u001b[0m\n\u001b[1;32m   1307\u001b[0m         \u001b[0;32mfor\u001b[0m \u001b[0mtemp_arg\u001b[0m \u001b[0;32min\u001b[0m \u001b[0mtemp_args\u001b[0m\u001b[0;34m:\u001b[0m\u001b[0;34m\u001b[0m\u001b[0;34m\u001b[0m\u001b[0m\n",
            "\u001b[0;32m/content/spark-3.0.0-bin-hadoop3.2/python/pyspark/sql/utils.py\u001b[0m in \u001b[0;36mdeco\u001b[0;34m(*a, **kw)\u001b[0m\n\u001b[1;32m    129\u001b[0m     \u001b[0;32mdef\u001b[0m \u001b[0mdeco\u001b[0m\u001b[0;34m(\u001b[0m\u001b[0;34m*\u001b[0m\u001b[0ma\u001b[0m\u001b[0;34m,\u001b[0m \u001b[0;34m**\u001b[0m\u001b[0mkw\u001b[0m\u001b[0;34m)\u001b[0m\u001b[0;34m:\u001b[0m\u001b[0;34m\u001b[0m\u001b[0;34m\u001b[0m\u001b[0m\n\u001b[1;32m    130\u001b[0m         \u001b[0;32mtry\u001b[0m\u001b[0;34m:\u001b[0m\u001b[0;34m\u001b[0m\u001b[0;34m\u001b[0m\u001b[0m\n\u001b[0;32m--> 131\u001b[0;31m             \u001b[0;32mreturn\u001b[0m \u001b[0mf\u001b[0m\u001b[0;34m(\u001b[0m\u001b[0;34m*\u001b[0m\u001b[0ma\u001b[0m\u001b[0;34m,\u001b[0m \u001b[0;34m**\u001b[0m\u001b[0mkw\u001b[0m\u001b[0;34m)\u001b[0m\u001b[0;34m\u001b[0m\u001b[0;34m\u001b[0m\u001b[0m\n\u001b[0m\u001b[1;32m    132\u001b[0m         \u001b[0;32mexcept\u001b[0m \u001b[0mpy4j\u001b[0m\u001b[0;34m.\u001b[0m\u001b[0mprotocol\u001b[0m\u001b[0;34m.\u001b[0m\u001b[0mPy4JJavaError\u001b[0m \u001b[0;32mas\u001b[0m \u001b[0me\u001b[0m\u001b[0;34m:\u001b[0m\u001b[0;34m\u001b[0m\u001b[0;34m\u001b[0m\u001b[0m\n\u001b[1;32m    133\u001b[0m             \u001b[0mconverted\u001b[0m \u001b[0;34m=\u001b[0m \u001b[0mconvert_exception\u001b[0m\u001b[0;34m(\u001b[0m\u001b[0me\u001b[0m\u001b[0;34m.\u001b[0m\u001b[0mjava_exception\u001b[0m\u001b[0;34m)\u001b[0m\u001b[0;34m\u001b[0m\u001b[0;34m\u001b[0m\u001b[0m\n",
            "\u001b[0;32m/content/spark-3.0.0-bin-hadoop3.2/python/lib/py4j-0.10.9-src.zip/py4j/protocol.py\u001b[0m in \u001b[0;36mget_return_value\u001b[0;34m(answer, gateway_client, target_id, name)\u001b[0m\n\u001b[1;32m    326\u001b[0m                 raise Py4JJavaError(\n\u001b[1;32m    327\u001b[0m                     \u001b[0;34m\"An error occurred while calling {0}{1}{2}.\\n\"\u001b[0m\u001b[0;34m.\u001b[0m\u001b[0;34m\u001b[0m\u001b[0;34m\u001b[0m\u001b[0m\n\u001b[0;32m--> 328\u001b[0;31m                     format(target_id, \".\", name), value)\n\u001b[0m\u001b[1;32m    329\u001b[0m             \u001b[0;32melse\u001b[0m\u001b[0;34m:\u001b[0m\u001b[0;34m\u001b[0m\u001b[0;34m\u001b[0m\u001b[0m\n\u001b[1;32m    330\u001b[0m                 raise Py4JError(\n",
            "\u001b[0;31mPy4JJavaError\u001b[0m: An error occurred while calling o38.partitions.\n: java.lang.NullPointerException\n\tat org.apache.spark.rdd.HadoopRDD$.getCachedMetadata(HadoopRDD.scala:408)\n\tat org.apache.spark.rdd.HadoopRDD.getJobConf(HadoopRDD.scala:167)\n\tat org.apache.spark.rdd.HadoopRDD.getPartitions(HadoopRDD.scala:201)\n\tat org.apache.spark.rdd.RDD.$anonfun$partitions$2(RDD.scala:276)\n\tat scala.Option.getOrElse(Option.scala:189)\n\tat org.apache.spark.rdd.RDD.partitions(RDD.scala:272)\n\tat org.apache.spark.rdd.MapPartitionsRDD.getPartitions(MapPartitionsRDD.scala:49)\n\tat org.apache.spark.rdd.RDD.$anonfun$partitions$2(RDD.scala:276)\n\tat scala.Option.getOrElse(Option.scala:189)\n\tat org.apache.spark.rdd.RDD.partitions(RDD.scala:272)\n\tat org.apache.spark.api.java.JavaRDDLike.partitions(JavaRDDLike.scala:61)\n\tat org.apache.spark.api.java.JavaRDDLike.partitions$(JavaRDDLike.scala:61)\n\tat org.apache.spark.api.java.AbstractJavaRDDLike.partitions(JavaRDDLike.scala:45)\n\tat sun.reflect.NativeMethodAccessorImpl.invoke0(Native Method)\n\tat sun.reflect.NativeMethodAccessorImpl.invoke(NativeMethodAccessorImpl.java:62)\n\tat sun.reflect.DelegatingMethodAccessorImpl.invoke(DelegatingMethodAccessorImpl.java:43)\n\tat java.lang.reflect.Method.invoke(Method.java:498)\n\tat py4j.reflection.MethodInvoker.invoke(MethodInvoker.java:244)\n\tat py4j.reflection.ReflectionEngine.invoke(ReflectionEngine.java:357)\n\tat py4j.Gateway.invoke(Gateway.java:282)\n\tat py4j.commands.AbstractCommand.invokeMethod(AbstractCommand.java:132)\n\tat py4j.commands.CallCommand.execute(CallCommand.java:79)\n\tat py4j.GatewayConnection.run(GatewayConnection.java:238)\n\tat java.lang.Thread.run(Thread.java:750)\n"
          ]
        }
      ]
    },
    {
      "cell_type": "code",
      "metadata": {
        "colab": {
          "base_uri": "https://localhost:8080/"
        },
        "id": "vxILtFNBOPwX",
        "outputId": "9d43a991-0fac-45f9-a92b-e1714182f921"
      },
      "source": [
        "# count number of rows\n",
        "equiposOlimpicosRDD.map(lambda x: x[2]).distinct().count()"
      ],
      "execution_count": null,
      "outputs": [
        {
          "output_type": "execute_result",
          "data": {
            "text/plain": [
              "231"
            ]
          },
          "metadata": {
            "tags": []
          },
          "execution_count": 12
        }
      ]
    },
    {
      "cell_type": "code",
      "metadata": {
        "colab": {
          "base_uri": "https://localhost:8080/"
        },
        "id": "HI6J7JTqPmNk",
        "outputId": "241f01d5-fb1f-4f6e-a6c9-babe116158ed"
      },
      "source": [
        "# group by teams for country\n",
        "equiposOlimpicosRDD.map(lambda x: (x[2],x[1])).groupByKey().mapValues(len).take(5)"
      ],
      "execution_count": null,
      "outputs": [
        {
          "output_type": "execute_result",
          "data": {
            "text/plain": [
              "[('sigla', 1), ('AUT', 11), ('MEX', 9), ('ARG', 18), ('AFG', 1)]"
            ]
          },
          "metadata": {
            "tags": []
          },
          "execution_count": 13
        }
      ]
    },
    {
      "cell_type": "code",
      "metadata": {
        "colab": {
          "base_uri": "https://localhost:8080/"
        },
        "id": "j_3zhPDLQZJY",
        "outputId": "5784acd7-be65-48c8-c8da-c847be44d99c"
      },
      "source": [
        "# diference with 'list' in stead of 'len'\n",
        "equiposOlimpicosRDD.map(lambda x: (x[2],x[1])).groupByKey().mapValues(list).take(5)"
      ],
      "execution_count": null,
      "outputs": [
        {
          "output_type": "execute_result",
          "data": {
            "text/plain": [
              "[('sigla', ['equipo']),\n",
              " ('AUT',\n",
              "  ['30. Februar',\n",
              "   'Austria',\n",
              "   'Austria-1',\n",
              "   'Austria-2',\n",
              "   'Breslau',\n",
              "   'Brigantia',\n",
              "   'Donar III',\n",
              "   'Evita VI',\n",
              "   'May-Be 1960',\n",
              "   '\"R.-V. Germania; Leitmeritz\"',\n",
              "   'Surprise']),\n",
              " ('MEX',\n",
              "  ['A North American Team',\n",
              "   'Acipactli',\n",
              "   'Chamukina',\n",
              "   'Mexico',\n",
              "   'Mexico-1',\n",
              "   'Mexico-2',\n",
              "   'Nausikaa 4',\n",
              "   'Tlaloc',\n",
              "   'Xolotl']),\n",
              " ('ARG',\n",
              "  ['Acturus',\n",
              "   'Antares',\n",
              "   'Arcturus',\n",
              "   'Ardilla',\n",
              "   'Argentina',\n",
              "   'Argentina-1',\n",
              "   'Argentina-2',\n",
              "   'Blue Red',\n",
              "   'Covunco III',\n",
              "   'Cupidon III',\n",
              "   'Djinn',\n",
              "   'Gullvinge',\n",
              "   'Matrero II',\n",
              "   'Mizar',\n",
              "   'Pampero',\n",
              "   'Rampage',\n",
              "   'Tango',\n",
              "   'Wiking']),\n",
              " ('AFG', ['Afghanistan'])]"
            ]
          },
          "metadata": {
            "tags": []
          },
          "execution_count": 14
        }
      ]
    },
    {
      "cell_type": "code",
      "metadata": {
        "colab": {
          "base_uri": "https://localhost:8080/"
        },
        "id": "T21Ui-RpRuje",
        "outputId": "db534463-20c5-4956-d2a8-e5cf0fb77229"
      },
      "source": [
        "# createa filter to Argentina values\n",
        "equiposArgentinos = equiposOlimpicosRDD.filter(lambda x: 'ARG' in x)\n",
        "equiposArgentinos.collect()"
      ],
      "execution_count": null,
      "outputs": [
        {
          "output_type": "execute_result",
          "data": {
            "text/plain": [
              "[['4', 'Acturus', 'ARG'],\n",
              " ['37', 'Antares', 'ARG'],\n",
              " ['42', 'Arcturus', 'ARG'],\n",
              " ['43', 'Ardilla', 'ARG'],\n",
              " ['45', 'Argentina', 'ARG'],\n",
              " ['46', 'Argentina-1', 'ARG'],\n",
              " ['47', 'Argentina-2', 'ARG'],\n",
              " ['119', 'Blue Red', 'ARG'],\n",
              " ['238', 'Covunco III', 'ARG'],\n",
              " ['252', 'Cupidon III', 'ARG'],\n",
              " ['288', 'Djinn', 'ARG'],\n",
              " ['436', 'Gullvinge', 'ARG'],\n",
              " ['644', 'Matrero II', 'ARG'],\n",
              " ['672', 'Mizar', 'ARG'],\n",
              " ['774', 'Pampero', 'ARG'],\n",
              " ['843', 'Rampage', 'ARG'],\n",
              " ['1031', 'Tango', 'ARG'],\n",
              " ['1162', 'Wiking', 'ARG']]"
            ]
          },
          "metadata": {
            "tags": []
          },
          "execution_count": 15
        }
      ]
    },
    {
      "cell_type": "code",
      "metadata": {
        "colab": {
          "base_uri": "https://localhost:8080/"
        },
        "id": "MZn1nH81SdD5",
        "outputId": "292c2387-0675-4af7-f31e-22b83c11f442"
      },
      "source": [
        "# count Aprox is a count of data, rows or columns in a dataframe wit a time limit counting in miliseconds\n",
        "equiposOlimpicosRDD.countApprox(1)"
      ],
      "execution_count": null,
      "outputs": [
        {
          "output_type": "execute_result",
          "data": {
            "text/plain": [
              "1185"
            ]
          },
          "metadata": {
            "tags": []
          },
          "execution_count": 12
        }
      ]
    },
    {
      "cell_type": "code",
      "metadata": {
        "colab": {
          "base_uri": "https://localhost:8080/"
        },
        "id": "QTLPVEjpTXum",
        "outputId": "78e91f8b-402c-4a45-90f9-051ab7800cd9"
      },
      "source": [
        "equiposOlimpicosRDD.count()"
      ],
      "execution_count": null,
      "outputs": [
        {
          "output_type": "execute_result",
          "data": {
            "text/plain": [
              "1185"
            ]
          },
          "metadata": {
            "tags": []
          },
          "execution_count": 55
        }
      ]
    },
    {
      "cell_type": "code",
      "metadata": {
        "colab": {
          "base_uri": "https://localhost:8080/"
        },
        "id": "5xHibOZ_Lgic",
        "outputId": "eb1f3b93-5ed8-401a-c68c-1bedb9e931a3"
      },
      "source": [
        "# count athletes\n",
        "deportistaOlimpicoRDD.count()"
      ],
      "execution_count": null,
      "outputs": [
        {
          "output_type": "execute_result",
          "data": {
            "text/plain": [
              "135572"
            ]
          },
          "metadata": {
            "tags": []
          },
          "execution_count": 18
        }
      ]
    },
    {
      "cell_type": "code",
      "metadata": {
        "colab": {
          "base_uri": "https://localhost:8080/"
        },
        "id": "JDFKqWvGLvUu",
        "outputId": "ee5f8dad-5ba9-4a8b-c13c-3fb5d9da27b4"
      },
      "source": [
        "# show top rows\n",
        "equiposOlimpicosRDD.top(5)"
      ],
      "execution_count": null,
      "outputs": [
        {
          "output_type": "execute_result",
          "data": {
            "text/plain": [
              "[['id', 'equipo', 'sigla'],\n",
              " ['999', 'Stella-2', 'NOR'],\n",
              " ['998', 'State VI', 'CAN'],\n",
              " ['997', 'Starlight III', 'GBR'],\n",
              " ['996', 'Starita', 'NED']]"
            ]
          },
          "metadata": {
            "tags": []
          },
          "execution_count": 15
        }
      ]
    },
    {
      "cell_type": "code",
      "metadata": {
        "colab": {
          "base_uri": "https://localhost:8080/"
        },
        "id": "bmIxXtr5MIo1",
        "outputId": "f02011da-e315-4cf9-f210-b75132d7805d"
      },
      "source": [
        "deportistaOlimpicoRDD.top(5)"
      ],
      "execution_count": null,
      "outputs": [
        {
          "output_type": "execute_result",
          "data": {
            "text/plain": [
              "[['deportista_id', 'nombre', 'genero', 'edad', 'altura', 'peso', 'equipo_id'],\n",
              " ['99999', 'Alexander Grant Alick Rennie', '1', '32', '182', '71', '967'],\n",
              " ['99998', 'Robert John Bob Renney', '1', '21', '178', '90', '66'],\n",
              " ['99997', 'Thomas Renner', '1', '24', '183', '86', '71'],\n",
              " ['99996', 'Sara Renner', '2', '21', '168', '63', '174']]"
            ]
          },
          "metadata": {
            "tags": []
          },
          "execution_count": 16
        }
      ]
    },
    {
      "cell_type": "code",
      "metadata": {
        "colab": {
          "base_uri": "https://localhost:8080/"
        },
        "id": "-ZoJpisyODc-",
        "outputId": "b8f001ad-7822-4bbd-cdf0-25ca350c7b8d"
      },
      "source": [
        "# read 'resultados.csv'\n",
        "resultado = sc.textFile(path+'resultados.csv').map(lambda x: x.split(','))\n",
        "resultado.top(5)"
      ],
      "execution_count": null,
      "outputs": [
        {
          "output_type": "execute_result",
          "data": {
            "text/plain": [
              "[['resultado_id', 'medalla', 'deportista_id', 'juego_id', 'evento_id'],\n",
              " ['99999', 'NA', '50604', '51', '568'],\n",
              " ['99998', 'NA', '50603', '47', '36'],\n",
              " ['99997', 'NA', '50602', '49', '262'],\n",
              " ['99996', 'NA', '50601', '47', '614']]"
            ]
          },
          "metadata": {
            "tags": []
          },
          "execution_count": 20
        }
      ]
    },
    {
      "cell_type": "code",
      "metadata": {
        "colab": {
          "base_uri": "https://localhost:8080/"
        },
        "id": "rPb_b5uKPYp5",
        "outputId": "976b1287-8d83-4b1a-b668-77b79e779f9f"
      },
      "source": [
        "# drop NA values that are people without medals\n",
        "resultadoGanador = resultado.filter(lambda l: 'NA' not in l[1])\n",
        "resultadoGanador.take(5)"
      ],
      "execution_count": null,
      "outputs": [
        {
          "output_type": "execute_result",
          "data": {
            "text/plain": [
              "[['resultado_id', 'medalla', 'deportista_id', 'juego_id', 'evento_id'],\n",
              " ['4', 'Gold', '4', '2', '4'],\n",
              " ['38', 'Bronze', '15', '7', '19'],\n",
              " ['39', 'Bronze', '15', '7', '20'],\n",
              " ['41', 'Bronze', '16', '50', '14']]"
            ]
          },
          "metadata": {
            "tags": []
          },
          "execution_count": 21
        }
      ]
    },
    {
      "cell_type": "markdown",
      "metadata": {
        "id": "cAjMiBDuQUL7"
      },
      "source": [
        "### Challenge"
      ]
    },
    {
      "cell_type": "code",
      "metadata": {
        "id": "0QYGCOfUP705"
      },
      "source": [
        "# Challenge is join 3 RDDs \"equipos\", \"deportistas\" y \"resultados\"\n",
        "\n",
        "equiposYDeportistas = deportistaOlimpicoRDD.map(lambda l: [l[-1],l[:-1]]).join(equiposOlimpicosRDD.map(lambda x: [x[0], x[2]])).join(resultadoGanador.map(lambda y: [y[2], y[1]]))\n",
        "equiposYDeportistas.takeSample(False,6,25)"
      ],
      "execution_count": null,
      "outputs": []
    },
    {
      "cell_type": "markdown",
      "metadata": {
        "id": "qfXCQYCih_S9"
      },
      "source": [
        "## Number operations"
      ]
    },
    {
      "cell_type": "code",
      "metadata": {
        "id": "2VHycubUSzx2"
      },
      "source": [
        "# save medal values according to international commission of olimpic games\n",
        "valoresMedallas = {'Gold': 7,\n",
        "                   'Silver': 5,\n",
        "                   'Bronze': 4}"
      ],
      "execution_count": null,
      "outputs": []
    },
    {
      "cell_type": "code",
      "metadata": {
        "id": "1Cr2OOxyjVGx"
      },
      "source": [
        "# asing medal values  to RDD\n",
        "paisesMedallas = equiposYDeportistas.map(lambda x: (x[1][0][-1], valoresMedallas[x[1][1]]))"
      ],
      "execution_count": null,
      "outputs": []
    },
    {
      "cell_type": "code",
      "metadata": {
        "id": "LxL9_65cj_GS"
      },
      "source": [
        "# import operator library\n",
        "from operator import add"
      ],
      "execution_count": null,
      "outputs": []
    },
    {
      "cell_type": "code",
      "metadata": {
        "id": "Q4KKlyCDkwMK"
      },
      "source": [
        "# sum country by medal\n",
        "conclusion = paisesMedallas.reduceByKey((add)).sortBy(lambda x: x[1], ascending=False)"
      ],
      "execution_count": null,
      "outputs": []
    },
    {
      "cell_type": "code",
      "metadata": {
        "colab": {
          "base_uri": "https://localhost:8080/"
        },
        "id": "8Ef7x5ihlYgF",
        "outputId": "d7803a15-942a-421e-8642-2a8c68cdc93c"
      },
      "source": [
        "conclusion.take(10)"
      ],
      "execution_count": null,
      "outputs": [
        {
          "output_type": "execute_result",
          "data": {
            "text/plain": [
              "[('ITA', 74920),\n",
              " ('NED', 65560),\n",
              " ('GER', 22323),\n",
              " ('JPN', 19950),\n",
              " ('NZL', 9220),\n",
              " ('TCH', 8160),\n",
              " ('BLR', 5012),\n",
              " ('RSA', 4735),\n",
              " ('TUR', 3965),\n",
              " ('GHA', 3430)]"
            ]
          },
          "metadata": {
            "tags": []
          },
          "execution_count": 27
        }
      ]
    },
    {
      "cell_type": "markdown",
      "metadata": {
        "id": "SydrMgCLrYUV"
      },
      "source": [
        "## Class 05 -  inference data types"
      ]
    },
    {
      "cell_type": "markdown",
      "metadata": {
        "id": "n8Ch4uvSv37H"
      },
      "source": [
        "Create a dataframe from RDD"
      ]
    },
    {
      "cell_type": "code",
      "metadata": {
        "id": "2zeMBacDwK1s"
      },
      "source": [
        "# load libraries for dataframes\n",
        "from pyspark import SparkContext\n",
        "from pyspark.sql import SparkSession, SQLContext\n",
        "\n",
        "from pyspark.sql.types import StructType, StructField, IntegerType, StringType, FloatType, Row"
      ],
      "execution_count": null,
      "outputs": []
    },
    {
      "cell_type": "code",
      "metadata": {
        "id": "2MQ8X_p7yCmY"
      },
      "source": [
        "# Create a initialator\n",
        "sqlContext = SQLContext(sc)"
      ],
      "execution_count": null,
      "outputs": []
    },
    {
      "cell_type": "code",
      "metadata": {
        "id": "IWcdXAVFl5X7",
        "colab": {
          "base_uri": "https://localhost:8080/"
        },
        "outputId": "c2753d23-053a-4d88-9739-375004e1a950"
      },
      "source": [
        "deportistaOlimpicoRDD.take(5)"
      ],
      "execution_count": null,
      "outputs": [
        {
          "output_type": "execute_result",
          "data": {
            "text/plain": [
              "[['deportista_id', 'nombre', 'genero', 'edad', 'altura', 'peso', 'equipo_id'],\n",
              " ['1', 'A Dijiang', '1', '24', '180', '80', '199'],\n",
              " ['2', 'A Lamusi', '1', '23', '170', '60', '199'],\n",
              " ['3', 'Gunnar Nielsen Aaby', '1', '24', '0', '0', '273'],\n",
              " ['4', 'Edgar Lindenau Aabye', '1', '34', '0', '0', '278']]"
            ]
          },
          "metadata": {
            "tags": []
          },
          "execution_count": 28
        }
      ]
    },
    {
      "cell_type": "markdown",
      "metadata": {
        "id": "H1xkkS7Q2-eP"
      },
      "source": [
        "### Challenge, create 4 dataframes from RDDs"
      ]
    },
    {
      "cell_type": "code",
      "metadata": {
        "id": "CasdAA2G298X"
      },
      "source": [
        "# remove heads of RDDs\n",
        " eve= deportistaOlimpicoRDD.mapPartitionsWithIndex(eliminarEncabezado)"
      ],
      "execution_count": null,
      "outputs": []
    },
    {
      "cell_type": "code",
      "metadata": {
        "id": "yemjeO-FyUo4"
      },
      "source": [
        "# challenge, \n",
        "# create Schemas\n",
        "\n",
        "deporte_schema = StructType([\n",
        "          StructField(\"deporte_id\",IntegerType(),False),\n",
        "          StructField(\"deporte\", StringType(),False)\n",
        "])\n",
        "\n",
        "evento_schema = StructType([\n",
        "          StructField(\"evento_id\",IntegerType(),False),\n",
        "          StructField(\"evento\",StringType(),False),\n",
        "          StructField(\"deporte_id\",IntegerType(),False)\n",
        "])\n",
        "\n",
        "paises_schema = StructType([\n",
        "          StructField(\"id\",IntegerType(),False),\n",
        "          StructField(\"equipo\",StringType(),False),\n",
        "          StructField(\"sigla\",StringType(),False)\n",
        "])\n",
        "\n",
        "resultados_schema = StructType([\n",
        "          StructField(\"resultado_id\",IntegerType(),False),\n",
        "          StructField(\"medalla\",StringType(),False),\n",
        "          StructField(\"deportista_id\",IntegerType(),False),\n",
        "          StructField(\"juego_id\",IntegerType(),False),\n",
        "          StructField(\"evento_id\",IntegerType(),False)\n",
        "])"
      ],
      "execution_count": null,
      "outputs": []
    },
    {
      "cell_type": "code",
      "metadata": {
        "colab": {
          "base_uri": "https://localhost:8080/",
          "height": 238
        },
        "id": "LqZw-sLl2J9W",
        "outputId": "ca4db41d-c1da-4aec-c83d-91bc9c543eae"
      },
      "source": [
        "# creation of dataframes\n",
        "\n",
        "deporteDF = sqlContext.createDataFrame(deporteRDD, deporte_schema)\n",
        "eventoDF = sqlContext.createDataFrame(eventoRDD, evento_schema)\n",
        "paisesDF = sqlContext.createDataFrame(paisesRDD, paises_schema)\n",
        "resultadosDF = sqlContext.createDataFrame(resultadosRDD, resultados_schema)"
      ],
      "execution_count": null,
      "outputs": [
        {
          "output_type": "error",
          "ename": "NameError",
          "evalue": "ignored",
          "traceback": [
            "\u001b[0;31m---------------------------------------------------------------------------\u001b[0m",
            "\u001b[0;31mNameError\u001b[0m                                 Traceback (most recent call last)",
            "\u001b[0;32m<ipython-input-44-db9e161d3902>\u001b[0m in \u001b[0;36m<module>\u001b[0;34m()\u001b[0m\n\u001b[1;32m      1\u001b[0m \u001b[0;31m# creation of dataframes\u001b[0m\u001b[0;34m\u001b[0m\u001b[0;34m\u001b[0m\u001b[0;34m\u001b[0m\u001b[0m\n\u001b[1;32m      2\u001b[0m \u001b[0;34m\u001b[0m\u001b[0m\n\u001b[0;32m----> 3\u001b[0;31m \u001b[0mdeportistaDF\u001b[0m \u001b[0;34m=\u001b[0m \u001b[0msqlContext\u001b[0m\u001b[0;34m.\u001b[0m\u001b[0mcreateDataFrame\u001b[0m\u001b[0;34m(\u001b[0m\u001b[0mdeportistaOlimpicoRDD\u001b[0m\u001b[0;34m,\u001b[0m \u001b[0mschemaDeportista\u001b[0m\u001b[0;34m)\u001b[0m\u001b[0;34m\u001b[0m\u001b[0;34m\u001b[0m\u001b[0m\n\u001b[0m\u001b[1;32m      4\u001b[0m \u001b[0mdeporteDF\u001b[0m \u001b[0;34m=\u001b[0m \u001b[0msqlContext\u001b[0m\u001b[0;34m.\u001b[0m\u001b[0mcreateDataFrame\u001b[0m\u001b[0;34m(\u001b[0m\u001b[0mdeporteRDD\u001b[0m\u001b[0;34m,\u001b[0m \u001b[0mdeporte_schema\u001b[0m\u001b[0;34m)\u001b[0m\u001b[0;34m\u001b[0m\u001b[0;34m\u001b[0m\u001b[0m\n\u001b[1;32m      5\u001b[0m \u001b[0meventoDF\u001b[0m \u001b[0;34m=\u001b[0m \u001b[0msqlContext\u001b[0m\u001b[0;34m.\u001b[0m\u001b[0mcreateDataFrame\u001b[0m\u001b[0;34m(\u001b[0m\u001b[0meventoRDD\u001b[0m\u001b[0;34m,\u001b[0m \u001b[0mevento_schema\u001b[0m\u001b[0;34m)\u001b[0m\u001b[0;34m\u001b[0m\u001b[0;34m\u001b[0m\u001b[0m\n",
            "\u001b[0;31mNameError\u001b[0m: name 'schemaDeportista' is not defined"
          ]
        }
      ]
    },
    {
      "cell_type": "code",
      "metadata": {
        "id": "cqPSBluA2l0a"
      },
      "source": [],
      "execution_count": null,
      "outputs": []
    }
  ]
}